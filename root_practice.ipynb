{
 "cells": [
  {
   "cell_type": "code",
   "execution_count": 1,
   "id": "2b48c782-93c8-4669-9fea-a7cbee07b2df",
   "metadata": {},
   "outputs": [
    {
     "name": "stderr",
     "output_type": "stream",
     "text": [
      "── \u001b[1mAttaching core tidyverse packages\u001b[22m ──────────────────────── tidyverse 2.0.0 ──\n",
      "\u001b[32m✔\u001b[39m \u001b[34mdplyr    \u001b[39m 1.1.4     \u001b[32m✔\u001b[39m \u001b[34mreadr    \u001b[39m 2.1.5\n",
      "\u001b[32m✔\u001b[39m \u001b[34mforcats  \u001b[39m 1.0.0     \u001b[32m✔\u001b[39m \u001b[34mstringr  \u001b[39m 1.5.1\n",
      "\u001b[32m✔\u001b[39m \u001b[34mggplot2  \u001b[39m 3.5.1     \u001b[32m✔\u001b[39m \u001b[34mtibble   \u001b[39m 3.2.1\n",
      "\u001b[32m✔\u001b[39m \u001b[34mlubridate\u001b[39m 1.9.3     \u001b[32m✔\u001b[39m \u001b[34mtidyr    \u001b[39m 1.3.1\n",
      "\u001b[32m✔\u001b[39m \u001b[34mpurrr    \u001b[39m 1.0.2     \n",
      "── \u001b[1mConflicts\u001b[22m ────────────────────────────────────────── tidyverse_conflicts() ──\n",
      "\u001b[31m✖\u001b[39m \u001b[34mdplyr\u001b[39m::\u001b[32mfilter()\u001b[39m masks \u001b[34mstats\u001b[39m::filter()\n",
      "\u001b[31m✖\u001b[39m \u001b[34mdplyr\u001b[39m::\u001b[32mlag()\u001b[39m    masks \u001b[34mstats\u001b[39m::lag()\n",
      "\u001b[36mℹ\u001b[39m Use the conflicted package (\u001b[3m\u001b[34m<http://conflicted.r-lib.org/>\u001b[39m\u001b[23m) to force all conflicts to become errors\n",
      "── \u001b[1mAttaching packages\u001b[22m ────────────────────────────────────── tidymodels 1.1.1 ──\n",
      "\n",
      "\u001b[32m✔\u001b[39m \u001b[34mbroom       \u001b[39m 1.0.6     \u001b[32m✔\u001b[39m \u001b[34mrsample     \u001b[39m 1.2.1\n",
      "\u001b[32m✔\u001b[39m \u001b[34mdials       \u001b[39m 1.3.0     \u001b[32m✔\u001b[39m \u001b[34mtune        \u001b[39m 1.1.2\n",
      "\u001b[32m✔\u001b[39m \u001b[34minfer       \u001b[39m 1.0.7     \u001b[32m✔\u001b[39m \u001b[34mworkflows   \u001b[39m 1.1.4\n",
      "\u001b[32m✔\u001b[39m \u001b[34mmodeldata   \u001b[39m 1.4.0     \u001b[32m✔\u001b[39m \u001b[34mworkflowsets\u001b[39m 1.0.1\n",
      "\u001b[32m✔\u001b[39m \u001b[34mparsnip     \u001b[39m 1.2.1     \u001b[32m✔\u001b[39m \u001b[34myardstick   \u001b[39m 1.3.1\n",
      "\u001b[32m✔\u001b[39m \u001b[34mrecipes     \u001b[39m 1.1.0     \n",
      "\n",
      "── \u001b[1mConflicts\u001b[22m ───────────────────────────────────────── tidymodels_conflicts() ──\n",
      "\u001b[31m✖\u001b[39m \u001b[34mscales\u001b[39m::\u001b[32mdiscard()\u001b[39m masks \u001b[34mpurrr\u001b[39m::discard()\n",
      "\u001b[31m✖\u001b[39m \u001b[34mdplyr\u001b[39m::\u001b[32mfilter()\u001b[39m   masks \u001b[34mstats\u001b[39m::filter()\n",
      "\u001b[31m✖\u001b[39m \u001b[34mrecipes\u001b[39m::\u001b[32mfixed()\u001b[39m  masks \u001b[34mstringr\u001b[39m::fixed()\n",
      "\u001b[31m✖\u001b[39m \u001b[34mdplyr\u001b[39m::\u001b[32mlag()\u001b[39m      masks \u001b[34mstats\u001b[39m::lag()\n",
      "\u001b[31m✖\u001b[39m \u001b[34myardstick\u001b[39m::\u001b[32mspec()\u001b[39m masks \u001b[34mreadr\u001b[39m::spec()\n",
      "\u001b[31m✖\u001b[39m \u001b[34mrecipes\u001b[39m::\u001b[32mstep()\u001b[39m   masks \u001b[34mstats\u001b[39m::step()\n",
      "\u001b[34m•\u001b[39m Learn how to get started at \u001b[32mhttps://www.tidymodels.org/start/\u001b[39m\n",
      "\n"
     ]
    }
   ],
   "source": [
    "library(tidyverse)\n",
    "library(repr)\n",
    "library(tidymodels)\n",
    "library(readxl)\n",
    "options(repr.matrix.max.rows = 6)"
   ]
  },
  {
   "cell_type": "code",
   "execution_count": 2,
   "id": "b6965f63-9512-43e2-8a0c-c26ae98867cc",
   "metadata": {},
   "outputs": [
    {
     "data": {
      "text/html": [
       "<table class=\"dataframe\">\n",
       "<caption>A tibble: 106 × 3</caption>\n",
       "<thead>\n",
       "\t<tr><th scope=col>treatment</th><th scope=col>plant_line</th><th scope=col>root_length</th></tr>\n",
       "\t<tr><th scope=col>&lt;chr&gt;</th><th scope=col>&lt;chr&gt;</th><th scope=col>&lt;dbl&gt;</th></tr>\n",
       "</thead>\n",
       "<tbody>\n",
       "\t<tr><td>fructose</td><td>col_0</td><td>1.709</td></tr>\n",
       "\t<tr><td>fructose</td><td>gcob </td><td>1.952</td></tr>\n",
       "\t<tr><td>fructose</td><td>cob_1</td><td>1.497</td></tr>\n",
       "\t<tr><td>⋮</td><td>⋮</td><td>⋮</td></tr>\n",
       "\t<tr><td>fructose</td><td>col_0</td><td>1.527</td></tr>\n",
       "\t<tr><td>fructose</td><td>col_0</td><td>1.582</td></tr>\n",
       "\t<tr><td>fructose</td><td>col_0</td><td>1.377</td></tr>\n",
       "</tbody>\n",
       "</table>\n"
      ],
      "text/latex": [
       "A tibble: 106 × 3\n",
       "\\begin{tabular}{lll}\n",
       " treatment & plant\\_line & root\\_length\\\\\n",
       " <chr> & <chr> & <dbl>\\\\\n",
       "\\hline\n",
       "\t fructose & col\\_0 & 1.709\\\\\n",
       "\t fructose & gcob  & 1.952\\\\\n",
       "\t fructose & cob\\_1 & 1.497\\\\\n",
       "\t ⋮ & ⋮ & ⋮\\\\\n",
       "\t fructose & col\\_0 & 1.527\\\\\n",
       "\t fructose & col\\_0 & 1.582\\\\\n",
       "\t fructose & col\\_0 & 1.377\\\\\n",
       "\\end{tabular}\n"
      ],
      "text/markdown": [
       "\n",
       "A tibble: 106 × 3\n",
       "\n",
       "| treatment &lt;chr&gt; | plant_line &lt;chr&gt; | root_length &lt;dbl&gt; |\n",
       "|---|---|---|\n",
       "| fructose | col_0 | 1.709 |\n",
       "| fructose | gcob  | 1.952 |\n",
       "| fructose | cob_1 | 1.497 |\n",
       "| ⋮ | ⋮ | ⋮ |\n",
       "| fructose | col_0 | 1.527 |\n",
       "| fructose | col_0 | 1.582 |\n",
       "| fructose | col_0 | 1.377 |\n",
       "\n"
      ],
      "text/plain": [
       "    treatment plant_line root_length\n",
       "1   fructose  col_0      1.709      \n",
       "2   fructose  gcob       1.952      \n",
       "3   fructose  cob_1      1.497      \n",
       "⋮   ⋮         ⋮          ⋮          \n",
       "104 fructose  col_0      1.527      \n",
       "105 fructose  col_0      1.582      \n",
       "106 fructose  col_0      1.377      "
      ]
     },
     "metadata": {},
     "output_type": "display_data"
    }
   ],
   "source": [
    "root_fruct <- read_excel(\"data/root_data.xlsx\", sheet = 2)\n",
    "\n",
    "fruct <- root_fruct |> \n",
    "    mutate(treatment = \"fructose\") |> \n",
    "    pivot_longer(cols = col_0:cob_6, names_to = \"plant_line\", values_to = \"root_length\") |> \n",
    "    filter(root_length != \"NA\")\n",
    "\n",
    "fruct"
   ]
  },
  {
   "cell_type": "code",
   "execution_count": 3,
   "id": "69cebecd-4ebc-4a10-896f-d480d830b076",
   "metadata": {},
   "outputs": [
    {
     "data": {
      "text/html": [
       "<table class=\"dataframe\">\n",
       "<caption>A tibble: 105 × 3</caption>\n",
       "<thead>\n",
       "\t<tr><th scope=col>treatment</th><th scope=col>plant_line</th><th scope=col>root_length</th></tr>\n",
       "\t<tr><th scope=col>&lt;chr&gt;</th><th scope=col>&lt;chr&gt;</th><th scope=col>&lt;dbl&gt;</th></tr>\n",
       "</thead>\n",
       "<tbody>\n",
       "\t<tr><td>nacl</td><td>col_0</td><td>4.122</td></tr>\n",
       "\t<tr><td>nacl</td><td>gcob </td><td>4.292</td></tr>\n",
       "\t<tr><td>nacl</td><td>cob_1</td><td>2.784</td></tr>\n",
       "\t<tr><td>⋮</td><td>⋮</td><td>⋮</td></tr>\n",
       "\t<tr><td>nacl</td><td>col_0</td><td>4.894</td></tr>\n",
       "\t<tr><td>nacl</td><td>col_0</td><td>4.600</td></tr>\n",
       "\t<tr><td>nacl</td><td>col_0</td><td>4.322</td></tr>\n",
       "</tbody>\n",
       "</table>\n"
      ],
      "text/latex": [
       "A tibble: 105 × 3\n",
       "\\begin{tabular}{lll}\n",
       " treatment & plant\\_line & root\\_length\\\\\n",
       " <chr> & <chr> & <dbl>\\\\\n",
       "\\hline\n",
       "\t nacl & col\\_0 & 4.122\\\\\n",
       "\t nacl & gcob  & 4.292\\\\\n",
       "\t nacl & cob\\_1 & 2.784\\\\\n",
       "\t ⋮ & ⋮ & ⋮\\\\\n",
       "\t nacl & col\\_0 & 4.894\\\\\n",
       "\t nacl & col\\_0 & 4.600\\\\\n",
       "\t nacl & col\\_0 & 4.322\\\\\n",
       "\\end{tabular}\n"
      ],
      "text/markdown": [
       "\n",
       "A tibble: 105 × 3\n",
       "\n",
       "| treatment &lt;chr&gt; | plant_line &lt;chr&gt; | root_length &lt;dbl&gt; |\n",
       "|---|---|---|\n",
       "| nacl | col_0 | 4.122 |\n",
       "| nacl | gcob  | 4.292 |\n",
       "| nacl | cob_1 | 2.784 |\n",
       "| ⋮ | ⋮ | ⋮ |\n",
       "| nacl | col_0 | 4.894 |\n",
       "| nacl | col_0 | 4.600 |\n",
       "| nacl | col_0 | 4.322 |\n",
       "\n"
      ],
      "text/plain": [
       "    treatment plant_line root_length\n",
       "1   nacl      col_0      4.122      \n",
       "2   nacl      gcob       4.292      \n",
       "3   nacl      cob_1      2.784      \n",
       "⋮   ⋮         ⋮          ⋮          \n",
       "103 nacl      col_0      4.894      \n",
       "104 nacl      col_0      4.600      \n",
       "105 nacl      col_0      4.322      "
      ]
     },
     "metadata": {},
     "output_type": "display_data"
    }
   ],
   "source": [
    "root_nacl <- read_excel(\"data/root_data.xlsx\", sheet = 3) \n",
    "nacl <- root_nacl |> \n",
    "    mutate(treatment = \"nacl\") |> \n",
    "    pivot_longer(cols = col_0:cob_6, names_to = \"plant_line\", values_to = \"root_length\") |> \n",
    "    filter(root_length != \"NA\")\n",
    "\n",
    "nacl"
   ]
  },
  {
   "cell_type": "code",
   "execution_count": 4,
   "id": "7261c0bc-2aae-4fa2-b4eb-b04f21d3e47e",
   "metadata": {},
   "outputs": [
    {
     "data": {
      "text/html": [
       "<table class=\"dataframe\">\n",
       "<caption>A tibble: 94 × 3</caption>\n",
       "<thead>\n",
       "\t<tr><th scope=col>treatment</th><th scope=col>plant_line</th><th scope=col>root_length</th></tr>\n",
       "\t<tr><th scope=col>&lt;chr&gt;</th><th scope=col>&lt;chr&gt;</th><th scope=col>&lt;dbl&gt;</th></tr>\n",
       "</thead>\n",
       "<tbody>\n",
       "\t<tr><td>sorbital</td><td>col_0</td><td>1.623</td></tr>\n",
       "\t<tr><td>sorbital</td><td>gcob </td><td>1.482</td></tr>\n",
       "\t<tr><td>sorbital</td><td>cob_1</td><td>0.316</td></tr>\n",
       "\t<tr><td>⋮</td><td>⋮</td><td>⋮</td></tr>\n",
       "\t<tr><td>sorbital</td><td>col_0</td><td>0.893</td></tr>\n",
       "\t<tr><td>sorbital</td><td>col_0</td><td>1.388</td></tr>\n",
       "\t<tr><td>sorbital</td><td>col_0</td><td>1.090</td></tr>\n",
       "</tbody>\n",
       "</table>\n"
      ],
      "text/latex": [
       "A tibble: 94 × 3\n",
       "\\begin{tabular}{lll}\n",
       " treatment & plant\\_line & root\\_length\\\\\n",
       " <chr> & <chr> & <dbl>\\\\\n",
       "\\hline\n",
       "\t sorbital & col\\_0 & 1.623\\\\\n",
       "\t sorbital & gcob  & 1.482\\\\\n",
       "\t sorbital & cob\\_1 & 0.316\\\\\n",
       "\t ⋮ & ⋮ & ⋮\\\\\n",
       "\t sorbital & col\\_0 & 0.893\\\\\n",
       "\t sorbital & col\\_0 & 1.388\\\\\n",
       "\t sorbital & col\\_0 & 1.090\\\\\n",
       "\\end{tabular}\n"
      ],
      "text/markdown": [
       "\n",
       "A tibble: 94 × 3\n",
       "\n",
       "| treatment &lt;chr&gt; | plant_line &lt;chr&gt; | root_length &lt;dbl&gt; |\n",
       "|---|---|---|\n",
       "| sorbital | col_0 | 1.623 |\n",
       "| sorbital | gcob  | 1.482 |\n",
       "| sorbital | cob_1 | 0.316 |\n",
       "| ⋮ | ⋮ | ⋮ |\n",
       "| sorbital | col_0 | 0.893 |\n",
       "| sorbital | col_0 | 1.388 |\n",
       "| sorbital | col_0 | 1.090 |\n",
       "\n"
      ],
      "text/plain": [
       "   treatment plant_line root_length\n",
       "1  sorbital  col_0      1.623      \n",
       "2  sorbital  gcob       1.482      \n",
       "3  sorbital  cob_1      0.316      \n",
       "⋮  ⋮         ⋮          ⋮          \n",
       "92 sorbital  col_0      0.893      \n",
       "93 sorbital  col_0      1.388      \n",
       "94 sorbital  col_0      1.090      "
      ]
     },
     "metadata": {},
     "output_type": "display_data"
    }
   ],
   "source": [
    "root_sorb <- read_excel(\"data/root_data.xlsx\", sheet = 4)\n",
    "sorb <- root_sorb |> \n",
    "    mutate(treatment = \"sorbital\") |> \n",
    "    pivot_longer(cols = col_0:cob_6, names_to = \"plant_line\", values_to = \"root_length\") |> \n",
    "    filter(root_length != \"NA\")\n",
    "\n",
    "sorb"
   ]
  },
  {
   "cell_type": "code",
   "execution_count": 5,
   "id": "e8c32ca0-90c4-4051-b7e3-de4cf699389c",
   "metadata": {},
   "outputs": [
    {
     "data": {
      "text/html": [
       "<table class=\"dataframe\">\n",
       "<caption>A tibble: 119 × 3</caption>\n",
       "<thead>\n",
       "\t<tr><th scope=col>treatment</th><th scope=col>plant_line</th><th scope=col>root_length</th></tr>\n",
       "\t<tr><th scope=col>&lt;chr&gt;</th><th scope=col>&lt;chr&gt;</th><th scope=col>&lt;dbl&gt;</th></tr>\n",
       "</thead>\n",
       "<tbody>\n",
       "\t<tr><td>control</td><td>col_0</td><td>3.650</td></tr>\n",
       "\t<tr><td>control</td><td>gcob </td><td>5.102</td></tr>\n",
       "\t<tr><td>control</td><td>cob_1</td><td>3.863</td></tr>\n",
       "\t<tr><td>⋮</td><td>⋮</td><td>⋮</td></tr>\n",
       "\t<tr><td>control</td><td>col_0</td><td>3.706</td></tr>\n",
       "\t<tr><td>control</td><td>col_0</td><td>4.474</td></tr>\n",
       "\t<tr><td>control</td><td>col_0</td><td>4.786</td></tr>\n",
       "</tbody>\n",
       "</table>\n"
      ],
      "text/latex": [
       "A tibble: 119 × 3\n",
       "\\begin{tabular}{lll}\n",
       " treatment & plant\\_line & root\\_length\\\\\n",
       " <chr> & <chr> & <dbl>\\\\\n",
       "\\hline\n",
       "\t control & col\\_0 & 3.650\\\\\n",
       "\t control & gcob  & 5.102\\\\\n",
       "\t control & cob\\_1 & 3.863\\\\\n",
       "\t ⋮ & ⋮ & ⋮\\\\\n",
       "\t control & col\\_0 & 3.706\\\\\n",
       "\t control & col\\_0 & 4.474\\\\\n",
       "\t control & col\\_0 & 4.786\\\\\n",
       "\\end{tabular}\n"
      ],
      "text/markdown": [
       "\n",
       "A tibble: 119 × 3\n",
       "\n",
       "| treatment &lt;chr&gt; | plant_line &lt;chr&gt; | root_length &lt;dbl&gt; |\n",
       "|---|---|---|\n",
       "| control | col_0 | 3.650 |\n",
       "| control | gcob  | 5.102 |\n",
       "| control | cob_1 | 3.863 |\n",
       "| ⋮ | ⋮ | ⋮ |\n",
       "| control | col_0 | 3.706 |\n",
       "| control | col_0 | 4.474 |\n",
       "| control | col_0 | 4.786 |\n",
       "\n"
      ],
      "text/plain": [
       "    treatment plant_line root_length\n",
       "1   control   col_0      3.650      \n",
       "2   control   gcob       5.102      \n",
       "3   control   cob_1      3.863      \n",
       "⋮   ⋮         ⋮          ⋮          \n",
       "117 control   col_0      3.706      \n",
       "118 control   col_0      4.474      \n",
       "119 control   col_0      4.786      "
      ]
     },
     "metadata": {},
     "output_type": "display_data"
    }
   ],
   "source": [
    "root_cont <- read_excel(\"data/root_data.xlsx\", sheet = 5)\n",
    "control <- root_cont |> \n",
    "    mutate(treatment = \"control\") |> \n",
    "    pivot_longer(cols = col_0:cob_6, names_to = \"plant_line\", values_to = \"root_length\") |> \n",
    "    filter(root_length != \"NA\")\n",
    "\n",
    "control"
   ]
  },
  {
   "cell_type": "code",
   "execution_count": 6,
   "id": "2a5b56d3-5799-4e1b-8560-e084c60638a9",
   "metadata": {},
   "outputs": [
    {
     "data": {
      "text/html": [
       "<table class=\"dataframe\">\n",
       "<caption>A tibble: 108 × 3</caption>\n",
       "<thead>\n",
       "\t<tr><th scope=col>treatment</th><th scope=col>plant_line</th><th scope=col>root_length</th></tr>\n",
       "\t<tr><th scope=col>&lt;chr&gt;</th><th scope=col>&lt;chr&gt;</th><th scope=col>&lt;dbl&gt;</th></tr>\n",
       "</thead>\n",
       "<tbody>\n",
       "\t<tr><td>sucrose</td><td>col_0</td><td>1.567</td></tr>\n",
       "\t<tr><td>sucrose</td><td>gcob </td><td>1.868</td></tr>\n",
       "\t<tr><td>sucrose</td><td>cob_1</td><td>0.312</td></tr>\n",
       "\t<tr><td>⋮</td><td>⋮</td><td>⋮</td></tr>\n",
       "\t<tr><td>sucrose</td><td>col_0</td><td>3.020</td></tr>\n",
       "\t<tr><td>sucrose</td><td>col_0</td><td>2.674</td></tr>\n",
       "\t<tr><td>sucrose</td><td>col_0</td><td>2.140</td></tr>\n",
       "</tbody>\n",
       "</table>\n"
      ],
      "text/latex": [
       "A tibble: 108 × 3\n",
       "\\begin{tabular}{lll}\n",
       " treatment & plant\\_line & root\\_length\\\\\n",
       " <chr> & <chr> & <dbl>\\\\\n",
       "\\hline\n",
       "\t sucrose & col\\_0 & 1.567\\\\\n",
       "\t sucrose & gcob  & 1.868\\\\\n",
       "\t sucrose & cob\\_1 & 0.312\\\\\n",
       "\t ⋮ & ⋮ & ⋮\\\\\n",
       "\t sucrose & col\\_0 & 3.020\\\\\n",
       "\t sucrose & col\\_0 & 2.674\\\\\n",
       "\t sucrose & col\\_0 & 2.140\\\\\n",
       "\\end{tabular}\n"
      ],
      "text/markdown": [
       "\n",
       "A tibble: 108 × 3\n",
       "\n",
       "| treatment &lt;chr&gt; | plant_line &lt;chr&gt; | root_length &lt;dbl&gt; |\n",
       "|---|---|---|\n",
       "| sucrose | col_0 | 1.567 |\n",
       "| sucrose | gcob  | 1.868 |\n",
       "| sucrose | cob_1 | 0.312 |\n",
       "| ⋮ | ⋮ | ⋮ |\n",
       "| sucrose | col_0 | 3.020 |\n",
       "| sucrose | col_0 | 2.674 |\n",
       "| sucrose | col_0 | 2.140 |\n",
       "\n"
      ],
      "text/plain": [
       "    treatment plant_line root_length\n",
       "1   sucrose   col_0      1.567      \n",
       "2   sucrose   gcob       1.868      \n",
       "3   sucrose   cob_1      0.312      \n",
       "⋮   ⋮         ⋮          ⋮          \n",
       "106 sucrose   col_0      3.020      \n",
       "107 sucrose   col_0      2.674      \n",
       "108 sucrose   col_0      2.140      "
      ]
     },
     "metadata": {},
     "output_type": "display_data"
    }
   ],
   "source": [
    "root_sucr <- read_excel(\"data/root_data.xlsx\", sheet = 6)\n",
    "sucr <- root_sucr |> \n",
    "    mutate(treatment = \"sucrose\") |> \n",
    "    pivot_longer(cols = col_0:cob_6, names_to = \"plant_line\", values_to = \"root_length\") |> \n",
    "    filter(root_length != \"NA\")\n",
    "\n",
    "sucr"
   ]
  },
  {
   "cell_type": "code",
   "execution_count": 7,
   "id": "ce32cb41-d367-4d93-9278-759fa3f5f9a2",
   "metadata": {},
   "outputs": [
    {
     "data": {
      "text/html": [
       "<table class=\"dataframe\">\n",
       "<caption>A tibble: 71 × 3</caption>\n",
       "<thead>\n",
       "\t<tr><th scope=col>treatment</th><th scope=col>plant_line</th><th scope=col>root_length</th></tr>\n",
       "\t<tr><th scope=col>&lt;chr&gt;</th><th scope=col>&lt;chr&gt;</th><th scope=col>&lt;dbl&gt;</th></tr>\n",
       "</thead>\n",
       "<tbody>\n",
       "\t<tr><td>manitol</td><td>col_0</td><td>1.215</td></tr>\n",
       "\t<tr><td>manitol</td><td>gcob </td><td>0.590</td></tr>\n",
       "\t<tr><td>manitol</td><td>cob_1</td><td>0.278</td></tr>\n",
       "\t<tr><td>⋮</td><td>⋮</td><td>⋮</td></tr>\n",
       "\t<tr><td>manitol</td><td>col_0</td><td>0.978</td></tr>\n",
       "\t<tr><td>manitol</td><td>col_0</td><td>0.891</td></tr>\n",
       "\t<tr><td>manitol</td><td>col_0</td><td>0.824</td></tr>\n",
       "</tbody>\n",
       "</table>\n"
      ],
      "text/latex": [
       "A tibble: 71 × 3\n",
       "\\begin{tabular}{lll}\n",
       " treatment & plant\\_line & root\\_length\\\\\n",
       " <chr> & <chr> & <dbl>\\\\\n",
       "\\hline\n",
       "\t manitol & col\\_0 & 1.215\\\\\n",
       "\t manitol & gcob  & 0.590\\\\\n",
       "\t manitol & cob\\_1 & 0.278\\\\\n",
       "\t ⋮ & ⋮ & ⋮\\\\\n",
       "\t manitol & col\\_0 & 0.978\\\\\n",
       "\t manitol & col\\_0 & 0.891\\\\\n",
       "\t manitol & col\\_0 & 0.824\\\\\n",
       "\\end{tabular}\n"
      ],
      "text/markdown": [
       "\n",
       "A tibble: 71 × 3\n",
       "\n",
       "| treatment &lt;chr&gt; | plant_line &lt;chr&gt; | root_length &lt;dbl&gt; |\n",
       "|---|---|---|\n",
       "| manitol | col_0 | 1.215 |\n",
       "| manitol | gcob  | 0.590 |\n",
       "| manitol | cob_1 | 0.278 |\n",
       "| ⋮ | ⋮ | ⋮ |\n",
       "| manitol | col_0 | 0.978 |\n",
       "| manitol | col_0 | 0.891 |\n",
       "| manitol | col_0 | 0.824 |\n",
       "\n"
      ],
      "text/plain": [
       "   treatment plant_line root_length\n",
       "1  manitol   col_0      1.215      \n",
       "2  manitol   gcob       0.590      \n",
       "3  manitol   cob_1      0.278      \n",
       "⋮  ⋮         ⋮          ⋮          \n",
       "69 manitol   col_0      0.978      \n",
       "70 manitol   col_0      0.891      \n",
       "71 manitol   col_0      0.824      "
      ]
     },
     "metadata": {},
     "output_type": "display_data"
    }
   ],
   "source": [
    "root_man <- read_excel(\"data/root_data.xlsx\", sheet = 7)\n",
    "man <- root_man |> \n",
    "    mutate(treatment = \"manitol\") |> \n",
    "    pivot_longer(cols = col_0:cob_6, names_to = \"plant_line\", values_to = \"root_length\") |> \n",
    "    filter(root_length != \"NA\")\n",
    "\n",
    "man"
   ]
  },
  {
   "cell_type": "code",
   "execution_count": 9,
   "id": "ecb72ec2-e725-41f8-a1f4-5a62f2de5e77",
   "metadata": {},
   "outputs": [
    {
     "data": {
      "text/html": [
       "<table class=\"dataframe\">\n",
       "<caption>A tibble: 603 × 3</caption>\n",
       "<thead>\n",
       "\t<tr><th scope=col>treatment</th><th scope=col>plant_line</th><th scope=col>root_length</th></tr>\n",
       "\t<tr><th scope=col>&lt;chr&gt;</th><th scope=col>&lt;chr&gt;</th><th scope=col>&lt;dbl&gt;</th></tr>\n",
       "</thead>\n",
       "<tbody>\n",
       "\t<tr><td>fructose</td><td>col_0</td><td>1.709</td></tr>\n",
       "\t<tr><td>fructose</td><td>gcob </td><td>1.952</td></tr>\n",
       "\t<tr><td>fructose</td><td>cob_1</td><td>1.497</td></tr>\n",
       "\t<tr><td>⋮</td><td>⋮</td><td>⋮</td></tr>\n",
       "\t<tr><td>manitol</td><td>col_0</td><td>0.978</td></tr>\n",
       "\t<tr><td>manitol</td><td>col_0</td><td>0.891</td></tr>\n",
       "\t<tr><td>manitol</td><td>col_0</td><td>0.824</td></tr>\n",
       "</tbody>\n",
       "</table>\n"
      ],
      "text/latex": [
       "A tibble: 603 × 3\n",
       "\\begin{tabular}{lll}\n",
       " treatment & plant\\_line & root\\_length\\\\\n",
       " <chr> & <chr> & <dbl>\\\\\n",
       "\\hline\n",
       "\t fructose & col\\_0 & 1.709\\\\\n",
       "\t fructose & gcob  & 1.952\\\\\n",
       "\t fructose & cob\\_1 & 1.497\\\\\n",
       "\t ⋮ & ⋮ & ⋮\\\\\n",
       "\t manitol & col\\_0 & 0.978\\\\\n",
       "\t manitol & col\\_0 & 0.891\\\\\n",
       "\t manitol & col\\_0 & 0.824\\\\\n",
       "\\end{tabular}\n"
      ],
      "text/markdown": [
       "\n",
       "A tibble: 603 × 3\n",
       "\n",
       "| treatment &lt;chr&gt; | plant_line &lt;chr&gt; | root_length &lt;dbl&gt; |\n",
       "|---|---|---|\n",
       "| fructose | col_0 | 1.709 |\n",
       "| fructose | gcob  | 1.952 |\n",
       "| fructose | cob_1 | 1.497 |\n",
       "| ⋮ | ⋮ | ⋮ |\n",
       "| manitol | col_0 | 0.978 |\n",
       "| manitol | col_0 | 0.891 |\n",
       "| manitol | col_0 | 0.824 |\n",
       "\n"
      ],
      "text/plain": [
       "    treatment plant_line root_length\n",
       "1   fructose  col_0      1.709      \n",
       "2   fructose  gcob       1.952      \n",
       "3   fructose  cob_1      1.497      \n",
       "⋮   ⋮         ⋮          ⋮          \n",
       "601 manitol   col_0      0.978      \n",
       "602 manitol   col_0      0.891      \n",
       "603 manitol   col_0      0.824      "
      ]
     },
     "metadata": {},
     "output_type": "display_data"
    }
   ],
   "source": [
    "root_data <- bind_rows(fruct, nacl, sorb, control, sucr, man)\n",
    "\n",
    "root_data"
   ]
  },
  {
   "cell_type": "code",
   "execution_count": null,
   "id": "aea39be4-3aba-4a26-bb20-aa0fc5d7fdf7",
   "metadata": {},
   "outputs": [],
   "source": []
  }
 ],
 "metadata": {
  "kernelspec": {
   "display_name": "R",
   "language": "R",
   "name": "ir"
  },
  "language_info": {
   "codemirror_mode": "r",
   "file_extension": ".r",
   "mimetype": "text/x-r-source",
   "name": "R",
   "pygments_lexer": "r",
   "version": "4.3.3"
  }
 },
 "nbformat": 4,
 "nbformat_minor": 5
}
